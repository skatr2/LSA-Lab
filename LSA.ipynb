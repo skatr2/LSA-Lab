{
 "cells": [
  {
   "cell_type": "code",
   "execution_count": 1,
   "metadata": {
    "collapsed": true
   },
   "outputs": [],
   "source": [
    "from sklearn.datasets import fetch_20newsgroups\n",
    "categories = ['rec.sport.baseball']\n",
    "dataset = fetch_20newsgroups(subset='all',shuffle=True, random_state=42, categories=categories)\n",
    "corpus = dataset.data"
   ]
  },
  {
   "cell_type": "code",
   "execution_count": 2,
   "metadata": {
    "collapsed": false
   },
   "outputs": [
    {
     "data": {
      "text/plain": [
       "u\"From: writingctr@leo.bsuvc.bsu.edu\\nSubject: Re: CUB fever.\\nOrganization: Ball State University, Muncie, In - Univ. Computing Svc's\\nLines: 21\\n\\n\\nIn article <kingoz.735285670@camelot>, kingoz@camelot.bradley.edu (Orin Roth) writes:\\n> \\n>    CUB fever is hitting me again. I'm beginning to think they have a \\n>    chance this year. (what the heck am i thinking?)\\n>    Sorry. Just a moment of incompetence.\\n>    I'll be ok. Really. \\n>    Orin.\\n>    Bradley U.\\n> \\n> --\\n> I'm really a jester in disguise!                                   \\nI hear ya!  Then again, we must remember that we are indeed Cub fans, and\\nthat the Cubs will eventually blow it.  After all, the Cubs are the easiest\\nteam in the National League to root for.  No Pressure.  You know they will\\nlose eventually.  Oh well, I suppose we must have faith.  After all, they\\ndo look pretty good, and they don't even have Sandberg back yet.  \\n\\nCUBS IN '93!!!!!\\n\\nCHA\\n\""
      ]
     },
     "execution_count": 2,
     "metadata": {},
     "output_type": "execute_result"
    }
   ],
   "source": [
    "corpus[0]"
   ]
  },
  {
   "cell_type": "code",
   "execution_count": 3,
   "metadata": {
    "collapsed": false,
    "scrolled": true
   },
   "outputs": [
    {
     "data": {
      "text/plain": [
       "u'From: schmke@cco.caltech.edu (Kevin Todd Schmidt)\\nSubject: NL OPI through first week+\\nOrganization: California Institute of Technology, Pasadena\\nLines: 184\\nNNTP-Posting-Host: sandman.caltech.edu\\n\\nHere is the OPI (Offensive Production Index) for all NL players with at\\nleast 10 at-bats.\\n\\nIt is early in the season so there are some high numbers.  Barry Bonds\\nfinished last season at 0.795.\\n\\nI welcome comments and suggestions.\\n\\nKevin\\n\\nLeague OPI: 0.410\\nLeague BA:  0.252\\nLeague SLG: 0.375\\nLeague OBA: 0.321\\n\\nRank Player                 OPI     BA    SLG    OBA\\n-----------------------------------------------------\\n1    Phi,daulton           1.101  0.333  0.875  0.515\\n2    Phi,kruk              1.069  0.429  0.821  0.529\\n3    Cub,grace             1.007  0.452  0.742  0.514\\n4    Cub,may               0.931  0.389  0.889  0.421\\n5    Col,boston            0.888  0.545  0.545  0.545\\n6    Pit,bell              0.873  0.429  0.714  0.467\\n7    Col,galarraga         0.867  0.458  0.708  0.458\\n8    StL,pena              0.833  0.400  0.600  0.516\\n9    StL,zeile             0.811  0.440  0.560  0.500\\n10   Cin,mitchell          0.810  0.429  0.643  0.467\\n11   Mon,lansing           0.792  0.419  0.677  0.438\\n12   Pit,slaught           0.754  0.474  0.526  0.474\\n13   Mon,vanderwal         0.746  0.389  0.556  0.476\\n14   NYM,tfernandez        0.709  0.300  0.400  0.500\\n15   SnF,martinez          0.697  0.300  0.400  0.500\\n16   Hou,bagwell           0.695  0.367  0.567  0.424\\n17   Col,hayes             0.686  0.333  0.667  0.364\\n18   Col,eyoung            0.682  0.333  0.500  0.407\\n19   Mon,alou              0.675  0.371  0.600  0.389\\n20   Cin,milligan          0.659  0.333  0.375  0.515\\n21   Phi,dykstra           0.646  0.214  0.571  0.405\\n22   SnF,bonds             0.624  0.280  0.680  0.333\\n22   Flo,conine            0.624  0.393  0.393  0.469\\n24   SnD,plantier          0.603  0.286  0.571  0.375\\n25   Hou,gonzalez          0.596  0.296  0.667  0.296\\n26   Hou,anthony           0.594  0.320  0.480  0.414\\n27   Col,cole              0.579  0.318  0.409  0.400\\n28   Atl,sanders           0.576  0.357  0.643  0.357\\n29   Mon,berry             0.566  0.273  0.273  0.500\\n30   Cub,sosa              0.558  0.303  0.545  0.343\\n31   StL,jefferies         0.551  0.269  0.692  0.296\\n32   Pit,vanslyke          0.549  0.296  0.444  0.387\\n33   *Montreal             0.548  0.312  0.490  0.367\\n34   Los,butler            0.545  0.296  0.333  0.457\\n35   Mon,grissom           0.542  0.333  0.455  0.371\\n36   Pit,king              0.536  0.308  0.346  0.438\\n37   SnD,gwynn             0.533  0.280  0.400  0.379\\n38   Pit,merced            0.532  0.300  0.400  0.391\\n39   NYM,murray            0.521  0.308  0.462  0.357\\n40   StL,gilkey            0.514  0.312  0.438  0.353\\n41   NYM,bonilla           0.507  0.292  0.417  0.370\\n42   SnD,walters           0.501  0.300  0.500  0.333\\n43   Cub,wilson            0.497  0.323  0.452  0.344\\n44   Flo,weiss             0.492  0.261  0.348  0.433\\n45   *Philadelphia         0.487  0.243  0.431  0.348\\n46   Atl,justice           0.480  0.207  0.448  0.361\\n47   *Pittsburgh           0.479  0.292  0.428  0.351\\n48   StL,osmith            0.476  0.310  0.448  0.355\\n49   Phi,incaviglia        0.473  0.250  0.500  0.308\\n50   Pit,young             0.470  0.286  0.500  0.310\\n51   *StLouis              0.467  0.275  0.445  0.344\\n52   *Colorado             0.459  0.287  0.426  0.327\\n53   NYM,hundley           0.458  0.300  0.450  0.333\\n54   NYM,orsulak           0.454  0.357  0.429  0.400\\n55   SnF,benjamin          0.440  0.200  0.500  0.273\\n56   Atl,gant              0.438  0.214  0.464  0.333\\n56   *NYMets               0.438  0.261  0.345  0.356\\n58   *Houston              0.436  0.260  0.415  0.318\\n59   Mon,pitcher           0.434  0.312  0.375  0.353\\n60   Phi,morandini         0.433  0.240  0.360  0.321\\n61   Hou,cedeno            0.427  0.280  0.440  0.308\\n62   Cin,sabo              0.423  0.226  0.452  0.273\\n63   SnF,manwaring         0.413  0.261  0.435  0.292\\n64   *SnFrancisco          0.412  0.253  0.396  0.315\\n65   Atl,blauser           0.409  0.276  0.310  0.364\\n66   SnF,thompson          0.408  0.278  0.389  0.316\\n66   Hou,caminiti          0.408  0.259  0.481  0.286\\n68   Flo,barberie          0.405  0.267  0.267  0.371\\n69   Mon,cordero           0.400  0.276  0.345  0.323\\n70   SnD,sheffield         0.397  0.241  0.448  0.267\\n71   Los,karros            0.392  0.259  0.296  0.355\\n72   SnF,williams          0.391  0.226  0.452  0.250\\n72   SnD,mcgriff           0.391  0.192  0.385  0.276\\n74   Flo,destrade          0.390  0.267  0.333  0.333\\n75   Col,girardi           0.388  0.238  0.381  0.304\\n76   Atl,bream             0.386  0.182  0.409  0.250\\n77   Mon,wood              0.385  0.200  0.300  0.333\\n78   Flo,santiago          0.384  0.200  0.360  0.286\\n79   Phi,thompson          0.383  0.227  0.273  0.320\\n80   SnF,clayton           0.382  0.345  0.379  0.345\\n80   Los,piazza            0.382  0.304  0.391  0.333\\n82   SnD,bell              0.378  0.273  0.364  0.304\\n83   Los,wallach           0.374  0.200  0.400  0.273\\n84   Cin,larkin            0.367  0.281  0.281  0.361\\n85   Pit,garcia            0.366  0.273  0.318  0.304\\n85   *Cincinnati           0.366  0.256  0.319  0.326\\n87   NYM,coleman           0.363  0.259  0.259  0.310\\n88   NYM,kent              0.362  0.190  0.286  0.320\\n89   StL,whiten            0.361  0.240  0.360  0.321\\n90   Cin,roberts           0.359  0.278  0.278  0.333\\n90   *Cubs                 0.359  0.236  0.366  0.277\\n92   SnF,lewis             0.354  0.227  0.364  0.261\\n92   Hou,finley            0.354  0.214  0.250  0.312\\n92   Col,clark             0.354  0.250  0.350  0.286\\n95   Los,pitcher           0.350  0.286  0.357  0.286\\n95   *SnDiego              0.350  0.219  0.357  0.268\\n97   Atl,lemke             0.345  0.200  0.240  0.333\\n98   *LosAngeles           0.339  0.221  0.275  0.311\\n99   SnF,mcgee             0.335  0.267  0.300  0.333\\n99   *Atlanta              0.335  0.199  0.308  0.287\\n101  Cin,sanders           0.334  0.267  0.333  0.290\\n101  Cin,oliver            0.334  0.208  0.208  0.345\\n103  SnD,gardner           0.332  0.238  0.333  0.273\\n103  Los,reed              0.332  0.276  0.276  0.323\\n105  Phi,hollins           0.327  0.226  0.290  0.294\\n106  *Florida              0.326  0.226  0.268  0.311\\n107  Los,davis             0.325  0.188  0.219  0.278\\n108  Atl,pendleton         0.322  0.212  0.273  0.297\\n109  SnF,clark             0.316  0.161  0.290  0.257\\n110  Los,strawberry        0.314  0.111  0.185  0.314\\n110  Hou,biggio            0.314  0.179  0.214  0.303\\n112  Phi,bell              0.304  0.182  0.364  0.217\\n113  Flo,magadan           0.303  0.182  0.182  0.357\\n114  StL,pagnozzi          0.299  0.158  0.316  0.238\\n115  Pit,martin            0.295  0.167  0.417  0.167\\n115  Col,bichette          0.295  0.222  0.389  0.222\\n117  Hou,taubensee         0.294  0.190  0.333  0.227\\n118  Mon,bolick            0.292  0.250  0.312  0.250\\n119  Flo,pose              0.291  0.258  0.323  0.303\\n120  Mon,cianfrocco        0.287  0.188  0.375  0.188\\n121  NYM,johnson           0.274  0.136  0.136  0.296\\n122  Cin,kelly             0.272  0.250  0.333  0.270\\n123  Atl,nixon             0.256  0.185  0.222  0.241\\n124  NYM,pitcher           0.255  0.167  0.250  0.231\\n125  Pit,pitcher           0.250  0.222  0.278  0.222\\n126  Cub,buechle           0.231  0.154  0.192  0.241\\n127  StL,lankford          0.225  0.133  0.133  0.316\\n128  Atl,olson             0.224  0.150  0.150  0.261\\n129  Cub,vizcaino          0.217  0.148  0.259  0.179\\n130  Cub,sanchez           0.212  0.188  0.219  0.212\\n131  Phi,duncan            0.202  0.214  0.214  0.214\\n132  Los,offerman          0.198  0.182  0.182  0.250\\n133  SnF,pitcher           0.197  0.176  0.235  0.176\\n134  Mon,laker             0.183  0.133  0.267  0.133\\n135  Phi,chamberlain       0.180  0.111  0.111  0.200\\n136  SnD,pitcher           0.164  0.182  0.182  0.182\\n136  Atl,pitcher           0.164  0.182  0.182  0.182\\n138  Phi,pitcher           0.159  0.111  0.167  0.158\\n139  Cub,maldonado         0.150  0.105  0.158  0.150\\n140  Flo,felix             0.148  0.172  0.207  0.172\\n141  Cin,espy              0.141  0.100  0.100  0.182\\n142  StL,jordan            0.140  0.105  0.211  0.105\\n143  Atl,berryhill         0.128  0.091  0.182  0.091\\n144  Cub,pitcher           0.126  0.111  0.111  0.158\\n145  SnD,shipley           0.122  0.087  0.174  0.087\\n146  StL,pitcher           0.106  0.125  0.125  0.125\\n147  Hou,pitcher           0.053  0.067  0.067  0.067\\n147  Col,benavides         0.053  0.067  0.067  0.067\\n147  Cin,pitcher           0.053  0.067  0.067  0.067\\n150  Cub,wilkins           0.038  0.000  0.000  0.067\\n151  Flo,pitcher           0.000  0.000  0.000  0.000\\n151  Col,pitcher           0.000  0.000  0.000  0.000\\n\\n      0.74*1B + 1.28*2B + 1.64*3B + 2.25*HR + 0.53*BB + 0.34*(SB-2*CS)\\nOPI = ----------------------------------------------------------------\\n                              AB - H\\n\\nBA = H / AB\\n\\nSLG = (H + 2B + 2*3B + 3*HR) / AB\\n\\nOBA = (H + BB) / (AB + BB)\\n-- \\nJet Propulsion Laboratory | schmke@cco.caltech.edu\\n4800 Oak Grove Dr.        | schmidt@spc5.jpl.nasa.gov\\nM/S 525-3684              |\\nPasadena, CA  91109       |\\n'"
      ]
     },
     "execution_count": 3,
     "metadata": {},
     "output_type": "execute_result"
    }
   ],
   "source": [
    "corpus[1]"
   ]
  },
  {
   "cell_type": "code",
   "execution_count": 4,
   "metadata": {
    "collapsed": true
   },
   "outputs": [],
   "source": [
    "from bs4 import BeautifulSoup\n",
    "import nltk\n",
    "from nltk.corpus import stopwords\n",
    "from sklearn.feature_extraction.text import TfidfVectorizer\n",
    "from sklearn.decomposition import TruncatedSVD"
   ]
  },
  {
   "cell_type": "code",
   "execution_count": 5,
   "metadata": {
    "collapsed": false
   },
   "outputs": [
    {
     "name": "stdout",
     "output_type": "stream",
     "text": [
      "[nltk_data] Downloading package stopwords to /home/shiva/nltk_data...\n",
      "[nltk_data]   Package stopwords is already up-to-date!\n"
     ]
    },
    {
     "data": {
      "text/plain": [
       "True"
      ]
     },
     "execution_count": 5,
     "metadata": {},
     "output_type": "execute_result"
    }
   ],
   "source": [
    "nltk.download('stopwords')"
   ]
  },
  {
   "cell_type": "code",
   "execution_count": 6,
   "metadata": {
    "collapsed": true
   },
   "outputs": [],
   "source": [
    "stopset = set(stopwords.words('english'))\n",
    "stopset.update(['lt','p','/p','br','amp','quot','field','font','normal','span','0px','rgb','style','51', \n",
    "                'spacing','text','helvetica','size','family', 'space', 'arial', 'height', 'indent', 'letter'\n",
    "                'line','none','sans','serif','transform','line','variant','weight','times', 'new','strong', 'video', 'title'\n",
    "                'white','word','letter', 'roman','0pt','16','color','12','14','21', 'neue', 'apple', 'class',  ])"
   ]
  },
  {
   "cell_type": "code",
   "execution_count": 11,
   "metadata": {
    "collapsed": true
   },
   "outputs": [],
   "source": [
    "from sklearn.datasets import fetch_20newsgroups\n",
    "categories = ['rec.sport.baseball']\n",
    "dataset = fetch_20newsgroups(subset='all',shuffle=True, random_state=42, categories=categories)\n",
    "corpus = dataset.data"
   ]
  },
  {
   "cell_type": "code",
   "execution_count": 13,
   "metadata": {
    "collapsed": false
   },
   "outputs": [],
   "source": [
    "vectorizer = TfidfVectorizer(stop_words=stopset,\n",
    "                                 use_idf=True, ngram_range=(1, 3))\n",
    "X = vectorizer.fit_transform(corpus)"
   ]
  },
  {
   "cell_type": "code",
   "execution_count": 14,
   "metadata": {
    "collapsed": false
   },
   "outputs": [
    {
     "data": {
      "text/plain": [
       "<1x190159 sparse matrix of type '<type 'numpy.float64'>'\n",
       "\twith 235 stored elements in Compressed Sparse Row format>"
      ]
     },
     "execution_count": 14,
     "metadata": {},
     "output_type": "execute_result"
    }
   ],
   "source": [
    "X[0]"
   ]
  },
  {
   "cell_type": "code",
   "execution_count": 15,
   "metadata": {
    "collapsed": false,
    "scrolled": true
   },
   "outputs": [
    {
     "name": "stdout",
     "output_type": "stream",
     "text": [
      "  (0, 51460)\t0.0734463096625\n",
      "  (0, 189431)\t0.0734463096625\n",
      "  (0, 28954)\t0.0734463096625\n",
      "  (0, 146556)\t0.0734463096625\n",
      "  (0, 64407)\t0.0734463096625\n",
      "  (0, 77917)\t0.0734463096625\n",
      "  (0, 133158)\t0.0734463096625\n",
      "  (0, 103424)\t0.0734463096625\n",
      "  (0, 66793)\t0.0734463096625\n",
      "  (0, 114520)\t0.0734463096625\n",
      "  (0, 163261)\t0.0734463096625\n",
      "  (0, 181100)\t0.0734463096625\n",
      "  (0, 119624)\t0.0734463096625\n",
      "  (0, 64543)\t0.0734463096625\n",
      "  (0, 103918)\t0.0734463096625\n",
      "  (0, 95532)\t0.0734463096625\n",
      "  (0, 133073)\t0.0734463096625\n",
      "  (0, 143720)\t0.0734463096625\n",
      "  (0, 98126)\t0.0734463096625\n",
      "  (0, 115161)\t0.0734463096625\n",
      "  (0, 165620)\t0.0734463096625\n",
      "  (0, 59664)\t0.0734463096625\n",
      "  (0, 51500)\t0.0734463096625\n",
      "  (0, 35721)\t0.0734463096625\n",
      "  (0, 64533)\t0.0734463096625\n",
      "  :\t:\n",
      "  (0, 143954)\t0.0551931192048\n",
      "  (0, 122291)\t0.11038623841\n",
      "  (0, 37510)\t0.0989842910659\n",
      "  (0, 40680)\t0.104524831508\n",
      "  (0, 16529)\t0.0734463096625\n",
      "  (0, 94943)\t0.11038623841\n",
      "  (0, 25779)\t0.0160794683389\n",
      "  (0, 100805)\t0.010248916482\n",
      "  (0, 163850)\t0.0606840380211\n",
      "  (0, 48144)\t0.0387972930629\n",
      "  (0, 175254)\t0.0391426583255\n",
      "  (0, 114318)\t0.0606840380211\n",
      "  (0, 175290)\t0.0179368326547\n",
      "  (0, 159024)\t0.0372269139097\n",
      "  (0, 29476)\t0.0306118463788\n",
      "  (0, 121678)\t0.0102695385529\n",
      "  (0, 68334)\t0.124508834349\n",
      "  (0, 51382)\t0.160868220155\n",
      "  (0, 137192)\t0.0126673855948\n",
      "  (0, 161824)\t0.0101872995629\n",
      "  (0, 60164)\t0.023728059338\n",
      "  (0, 38750)\t0.0505117257066\n",
      "  (0, 38760)\t0.0505117257066\n",
      "  (0, 99152)\t0.0494921455329\n",
      "  (0, 186930)\t0.0734463096625\n"
     ]
    }
   ],
   "source": [
    "print X[0]"
   ]
  },
  {
   "cell_type": "code",
   "execution_count": 16,
   "metadata": {
    "collapsed": false
   },
   "outputs": [
    {
     "data": {
      "text/plain": [
       "(994, 190159)"
      ]
     },
     "execution_count": 16,
     "metadata": {},
     "output_type": "execute_result"
    }
   ],
   "source": [
    "X.shape"
   ]
  },
  {
   "cell_type": "code",
   "execution_count": 17,
   "metadata": {
    "collapsed": false
   },
   "outputs": [
    {
     "data": {
      "text/plain": [
       "TruncatedSVD(algorithm='randomized', n_components=27, n_iter=100,\n",
       "       random_state=None, tol=0.0)"
      ]
     },
     "execution_count": 17,
     "metadata": {},
     "output_type": "execute_result"
    }
   ],
   "source": [
    "lsa = TruncatedSVD(n_components=27, n_iter=100)\n",
    "lsa.fit(X)"
   ]
  },
  {
   "cell_type": "code",
   "execution_count": 18,
   "metadata": {
    "collapsed": false
   },
   "outputs": [
    {
     "data": {
      "text/plain": [
       "array([ 0.01601607,  0.00499136,  0.0008138 , ...,  0.00102587,\n",
       "        0.00102587,  0.00102587])"
      ]
     },
     "execution_count": 18,
     "metadata": {},
     "output_type": "execute_result"
    }
   ],
   "source": [
    "lsa.components_[0]"
   ]
  },
  {
   "cell_type": "code",
   "execution_count": 19,
   "metadata": {
    "collapsed": false
   },
   "outputs": [
    {
     "name": "stdout",
     "output_type": "stream",
     "text": [
      "Concept 0:\n",
      "edu\n",
      "com\n",
      "year\n",
      "writes\n",
      "team\n",
      "would\n",
      "game\n",
      "article\n",
      "re\n",
      "cs\n",
      " \n",
      "Concept 1:\n",
      "cs\n",
      "team\n",
      "think\n",
      "runs\n",
      "still\n",
      "win\n",
      "last year\n",
      "season\n",
      "pitching\n",
      "edu writes\n",
      " \n",
      "Concept 2:\n",
      "edu\n",
      "time\n",
      "years\n",
      "win\n",
      "subject\n",
      "think\n",
      "nntp\n",
      "two\n",
      "article\n",
      "david\n",
      " \n",
      "Concept 3:\n",
      "edu\n",
      "cs\n",
      "year\n",
      "could\n",
      "subject re\n",
      "re\n",
      "last year\n",
      "even\n",
      "go\n",
      "say\n",
      " \n",
      "Concept 4:\n",
      "com\n",
      "games\n",
      "go\n",
      "like\n",
      "posting\n",
      "cs\n",
      "nntp posting host\n",
      "posting host\n",
      "world\n",
      "nntp posting\n",
      " \n",
      "Concept 5:\n",
      "year\n",
      "games\n",
      "players\n",
      "baseball\n",
      "morris\n",
      "clutch\n",
      "ted\n",
      "pitching\n",
      "princeton\n",
      "let\n",
      " \n",
      "Concept 6:\n",
      "game\n",
      "win\n",
      "edu\n",
      "better\n",
      "university\n",
      "think\n",
      "subject re\n",
      "best\n",
      "ll\n",
      "would\n",
      " \n",
      "Concept 7:\n",
      "game\n",
      "baseball\n",
      "com\n",
      "really\n",
      "hirschbeck\n",
      "gant\n",
      "going\n",
      "pitcher\n",
      "bonds\n",
      "00\n",
      " \n",
      "Concept 8:\n",
      "good\n",
      "edu\n",
      "time\n",
      "go\n",
      "gant\n",
      "list\n",
      "player\n",
      "lines\n",
      "going\n",
      "back\n",
      " \n",
      "Concept 9:\n",
      "hit\n",
      "players\n",
      "university\n",
      "com\n",
      "team\n",
      "would\n",
      "best\n",
      "good\n",
      "david\n",
      "ever\n",
      " \n",
      "Concept 10:\n",
      "com\n",
      "morris\n",
      "may\n",
      "game\n",
      "david\n",
      "host\n",
      "article\n",
      "posting\n",
      "netcom com\n",
      "could\n",
      " \n",
      "Concept 11:\n",
      "com\n",
      "edu\n",
      "like\n",
      "two\n",
      "00\n",
      "writes\n",
      "jewish\n",
      "host\n",
      "games\n",
      "usa\n",
      " \n",
      "Concept 12:\n",
      "00\n",
      "edu\n",
      "university\n",
      "subject re\n",
      "first\n",
      "come\n",
      "hit\n",
      "league\n",
      "play\n",
      "1993\n",
      " \n",
      "Concept 13:\n",
      "hit\n",
      "00\n",
      "team\n",
      "runs\n",
      "would\n",
      "game\n",
      "go\n",
      "day\n",
      "one\n",
      "host\n",
      " \n",
      "Concept 14:\n",
      "00\n",
      "back\n",
      "braves\n",
      "first\n",
      "re\n",
      "even\n",
      "season\n",
      "posting\n",
      "roger\n",
      "two\n",
      " \n",
      "Concept 15:\n",
      "one\n",
      "runs\n",
      "good\n",
      "would\n",
      "organization university\n",
      "year\n",
      "baseball\n",
      "article\n",
      "much\n",
      "get\n",
      " \n",
      "Concept 16:\n",
      "00\n",
      "get\n",
      "year\n",
      "cs\n",
      "run\n",
      "players\n",
      "still\n",
      "something\n",
      "ll\n",
      "com\n",
      " \n",
      "Concept 17:\n",
      "00\n",
      "edu\n",
      "subject\n",
      "last\n",
      "game\n",
      "know\n",
      "subject re\n",
      "posting\n",
      "host\n",
      "organization university\n",
      " \n",
      "Concept 18:\n",
      "players\n",
      "mets\n",
      "think\n",
      "since\n",
      "year\n",
      "10\n",
      "much\n",
      "would\n",
      "back\n",
      "ball\n",
      " \n",
      "Concept 19:\n",
      "article\n",
      "one\n",
      "subject\n",
      "00\n",
      "team\n",
      "lines\n",
      "host\n",
      "much\n",
      "ball\n",
      "morris\n",
      " \n",
      "Concept 20:\n",
      "would\n",
      "way\n",
      "get\n",
      "cs\n",
      "frank\n",
      "better\n",
      "posting\n",
      "pitcher\n",
      "doesn\n",
      "years\n",
      " \n",
      "Concept 21:\n",
      "com\n",
      "year\n",
      "get\n",
      "article\n",
      "subject re\n",
      "writes\n",
      "subject\n",
      "pitching\n",
      "like\n",
      "season\n",
      " \n",
      "Concept 22:\n",
      "like\n",
      "re\n",
      "time\n",
      "last\n",
      "better\n",
      "host\n",
      "would\n",
      "one\n",
      "braves\n",
      "pitchers\n",
      " \n",
      "Concept 23:\n",
      "players\n",
      "good\n",
      "posting\n",
      "re\n",
      "get\n",
      "runs\n",
      "much\n",
      "game\n",
      "better\n",
      "ca\n",
      " \n",
      "Concept 24:\n",
      "baseball\n",
      "like\n",
      "good\n",
      "first\n",
      "university\n",
      "nntp posting\n",
      "cs\n",
      "posting\n",
      "article\n",
      "host\n",
      " \n",
      "Concept 25:\n",
      "edu\n",
      "writes\n",
      "players\n",
      "games\n",
      "organization university\n",
      "team\n",
      "first\n",
      "roger\n",
      "netcom\n",
      "might\n",
      " \n",
      "Concept 26:\n",
      "one\n",
      "would\n",
      "games\n",
      "think\n",
      "edu\n",
      "com\n",
      "article\n",
      "players\n",
      "lines\n",
      "team\n",
      " \n"
     ]
    }
   ],
   "source": [
    "terms = vectorizer.get_feature_names()\n",
    "for i, comp in enumerate(lsa.components_): \n",
    "    termsInComp = zip (terms,comp)\n",
    "    sortedTerms =  sorted(termsInComp, key=lambda x: x[1], reverse=True) [:10]\n",
    "    print \"Concept %d:\" % i\n",
    "    for term in sortedTerms:\n",
    "        print term[0]\n",
    "    print \" \""
   ]
  },
  {
   "cell_type": "code",
   "execution_count": null,
   "metadata": {
    "collapsed": true
   },
   "outputs": [],
   "source": []
  }
 ],
 "metadata": {
  "kernelspec": {
   "display_name": "Python 2",
   "language": "python",
   "name": "python2"
  },
  "language_info": {
   "codemirror_mode": {
    "name": "ipython",
    "version": 2
   },
   "file_extension": ".py",
   "mimetype": "text/x-python",
   "name": "python",
   "nbconvert_exporter": "python",
   "pygments_lexer": "ipython2",
   "version": "2.7.10"
  }
 },
 "nbformat": 4,
 "nbformat_minor": 0
}
